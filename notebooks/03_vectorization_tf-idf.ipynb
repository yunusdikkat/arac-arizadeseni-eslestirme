{
 "cells": [
  {
   "cell_type": "code",
   "execution_count": 1,
   "id": "ee459380-b6a1-448e-b622-68e535c8cf6b",
   "metadata": {},
   "outputs": [],
   "source": [
    "import pandas as pd\n",
    "import numpy as np\n",
    "from sklearn.feature_extraction.text import TfidfVectorizer\n",
    "from sklearn.metrics.pairwise import cosine_similarity"
   ]
  },
  {
   "cell_type": "code",
   "execution_count": 2,
   "id": "bb9960a3-c4be-480d-8d6f-ecfd4d578f41",
   "metadata": {},
   "outputs": [],
   "source": [
    "df = pd.read_csv(\"C:/Users/yunus/Desktop/Bahar Dersleri/Yapay Zeka Proje/arac-arizadeseni-eslestirme/data/processed/preprocessed_data_lemmatized_only.csv\")"
   ]
  },
  {
   "cell_type": "code",
   "execution_count": 11,
   "id": "98f9bfaa-2471-45d2-aea7-7d4953a57610",
   "metadata": {},
   "outputs": [],
   "source": [
    "tfidf_vectorizer = TfidfVectorizer()\n",
    "tfidf_matrix = tfidf_vectorizer.fit_transform(df['comments_processed'])  # 'comments_processed' sütununu kullanıyoruz\n",
    "tfidf_df = pd.DataFrame(tfidf_matrix.toarray(), columns=tfidf_vectorizer.get_feature_names_out())\n"
   ]
  },
  {
   "cell_type": "code",
   "execution_count": 12,
   "id": "ce9229d3-9595-4373-b133-3f5d093e9bdc",
   "metadata": {},
   "outputs": [],
   "source": [
    "first_sentence_vector = tfidf_df.iloc[0]\n",
    "top_5_words = first_sentence_vector.sort_values(ascending=False).head(5)"
   ]
  },
  {
   "cell_type": "code",
   "execution_count": 18,
   "id": "f06ba926-bbec-46d6-9fb0-124790a256e9",
   "metadata": {},
   "outputs": [
    {
     "name": "stdout",
     "output_type": "stream",
     "text": [
      "İlk 5 cümledeki en yüksek TF-IDF skorlu 5 kelime:\n",
      "there        0.259737\n",
      "numerous     0.210456\n",
      "carmax       0.210456\n",
      "worthless    0.202247\n",
      "dy           0.202247\n",
      "Name: 0, dtype: float64\n"
     ]
    }
   ],
   "source": [
    "print(\"İlk 5 cümledeki en yüksek TF-IDF skorlu 5 kelime:\")\n",
    "print(top_5_words)"
   ]
  },
  {
   "cell_type": "code",
   "execution_count": 21,
   "id": "7a11906c-a128-4b3a-8fde-0ac1a3be82db",
   "metadata": {},
   "outputs": [
    {
     "name": "stdout",
     "output_type": "stream",
     "text": [
      "\n",
      "Kosinüs Benzerliği Matrisi:\n",
      "        0         1         2         3         4         5         6    \\\n",
      "0  1.000000  0.165453  0.128436  0.186363  0.157353  0.183555  0.040138   \n",
      "1  0.165453  1.000000  0.281632  0.184810  0.244512  0.276041  0.079190   \n",
      "2  0.128436  0.281632  1.000000  0.213381  0.207142  0.326068  0.070560   \n",
      "3  0.186363  0.184810  0.213381  1.000000  0.204657  0.242194  0.096097   \n",
      "4  0.157353  0.244512  0.207142  0.204657  1.000000  0.246450  0.089685   \n",
      "\n",
      "        7         8         9    ...       438       439       440       441  \\\n",
      "0  0.057327  0.217527  0.210151  ...  0.153295  0.120188  0.254586  0.145266   \n",
      "1  0.132456  0.298620  0.232167  ...  0.280449  0.174271  0.190517  0.186605   \n",
      "2  0.101729  0.264848  0.303508  ...  0.182338  0.154581  0.179322  0.156788   \n",
      "3  0.084092  0.231114  0.305521  ...  0.213479  0.174108  0.221863  0.201334   \n",
      "4  0.119319  0.294811  0.480992  ...  0.191997  0.210570  0.269180  0.217219   \n",
      "\n",
      "        442       443       444       445       446       447  \n",
      "0  0.193195  0.122633  0.224278  0.071767  0.036741  0.141071  \n",
      "1  0.107637  0.095645  0.309070  0.146940  0.043941  0.160952  \n",
      "2  0.148552  0.071444  0.257120  0.135494  0.105983  0.147264  \n",
      "3  0.131512  0.104106  0.203049  0.117925  0.057341  0.167172  \n",
      "4  0.124359  0.103085  0.250686  0.159987  0.064345  0.147778  \n",
      "\n",
      "[5 rows x 448 columns]\n"
     ]
    }
   ],
   "source": [
    "cosine_sim_matrix = cosine_similarity(tfidf_matrix)\n",
    "cosine_sim_df = pd.DataFrame(cosine_sim_matrix)\n",
    "print(\"\\nKosinüs Benzerliği Matrisi:\")\n",
    "print(cosine_sim_df.head())"
   ]
  },
  {
   "cell_type": "code",
   "execution_count": null,
   "id": "8850e956-5a43-44e2-b86f-43fd2d044aef",
   "metadata": {},
   "outputs": [],
   "source": []
  }
 ],
 "metadata": {
  "kernelspec": {
   "display_name": "Python 3 (ipykernel)",
   "language": "python",
   "name": "python3"
  },
  "language_info": {
   "codemirror_mode": {
    "name": "ipython",
    "version": 3
   },
   "file_extension": ".py",
   "mimetype": "text/x-python",
   "name": "python",
   "nbconvert_exporter": "python",
   "pygments_lexer": "ipython3",
   "version": "3.12.7"
  }
 },
 "nbformat": 4,
 "nbformat_minor": 5
}
