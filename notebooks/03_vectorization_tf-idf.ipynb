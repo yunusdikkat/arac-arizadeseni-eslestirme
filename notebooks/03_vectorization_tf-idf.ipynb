{
 "cells": [
  {
   "cell_type": "code",
   "execution_count": 1,
   "id": "ee459380-b6a1-448e-b622-68e535c8cf6b",
   "metadata": {},
   "outputs": [],
   "source": [
    "import pandas as pd\n",
    "import numpy as np\n",
    "from sklearn.feature_extraction.text import TfidfVectorizer\n",
    "from sklearn.metrics.pairwise import cosine_similarity"
   ]
  },
  {
   "cell_type": "code",
   "execution_count": 2,
   "id": "bb9960a3-c4be-480d-8d6f-ecfd4d578f41",
   "metadata": {},
   "outputs": [],
   "source": [
    "df_lemmatized = pd.read_csv(\"C:/Users/yunus/Desktop/Bahar Dersleri/Yapay Zeka Proje/arac-arizadeseni-eslestirme/data/processed/preprocessed_data_lemmatized_only.csv\")\n",
    "df_stemmed = pd.read_csv(\"C:/Users/yunus/Desktop/Bahar Dersleri/Yapay Zeka Proje/arac-arizadeseni-eslestirme/data/processed/preprocessed_data_stemmed_only.csv\")"
   ]
  },
  {
   "cell_type": "code",
   "execution_count": 5,
   "id": "98f9bfaa-2471-45d2-aea7-7d4953a57610",
   "metadata": {},
   "outputs": [],
   "source": [
    "# TF İDF Vektörizasyon işlemi\n",
    "tfidf_vectorizer_lemma = TfidfVectorizer()\n",
    "tfidf_matrix_lemma = tfidf_vectorizer_lemma.fit_transform(df_lemmatized['comments_processed'])\n",
    "tfidf_df_lemma = pd.DataFrame(tfidf_matrix_lemma.toarray(), columns=tfidf_vectorizer_lemma.get_feature_names_out())\n",
    "\n",
    "tfidf_vectorizer_stem = TfidfVectorizer()\n",
    "tfidf_matrix_stem = tfidf_vectorizer_stem.fit_transform(df_stemmed['comments_stemmed'])\n",
    "tfidf_df_stem = pd.DataFrame(tfidf_matrix_stem.toarray(), columns=tfidf_vectorizer_stem.get_feature_names_out())"
   ]
  },
  {
   "cell_type": "code",
   "execution_count": 4,
   "id": "fe2deee2-9572-4c8e-af64-01c767fd4c8b",
   "metadata": {},
   "outputs": [],
   "source": [
    "#Dosyaların kaydedilmesi\n",
    "tfidf_df_lemma.to_csv(\"C:/Users/yunus/Desktop/Bahar Dersleri/Yapay Zeka Proje/arac-arizadeseni-eslestirme/data/processed/tfidf_lemmatized.csv\", index=False)\n",
    "tfidf_df_stem.to_csv(\"C:/Users/yunus/Desktop/Bahar Dersleri/Yapay Zeka Proje/arac-arizadeseni-eslestirme/data/processed/tfidf_stemmed.csv\", index=False)"
   ]
  },
  {
   "cell_type": "code",
   "execution_count": 6,
   "id": "ce9229d3-9595-4373-b133-3f5d093e9bdc",
   "metadata": {},
   "outputs": [
    {
     "name": "stdout",
     "output_type": "stream",
     "text": [
      "\n",
      "Lemmatize edilmiş veri - İlk cümlenin en yüksek TF-IDF skorlu 5 kelimesi:\n",
      "\n",
      "there        0.259737\n",
      "numerous     0.210456\n",
      "carmax       0.210456\n",
      "worthless    0.202247\n",
      "dy           0.202247\n",
      "Name: 0, dtype: float64\n"
     ]
    }
   ],
   "source": [
    "# Lemmatize edilmiş veri için\n",
    "first_sentence_vector_lemma = tfidf_df_lemma.iloc[0]\n",
    "top_5_words_lemma = first_sentence_vector_lemma.sort_values(ascending=False).head(5)\n",
    "\n",
    "print(\"\\nLemmatize edilmiş veri - İlk cümlenin en yüksek TF-IDF skorlu 5 kelimesi:\\n\")\n",
    "print(top_5_words_lemma)"
   ]
  },
  {
   "cell_type": "code",
   "execution_count": 7,
   "id": "1719070a-8611-42a5-961c-a0f4aeb3731a",
   "metadata": {},
   "outputs": [
    {
     "name": "stdout",
     "output_type": "stream",
     "text": [
      "\n",
      "Stemmed veri - İlk cümlenin en yüksek TF-IDF skorlu 5 kelimesi:\n",
      "\n",
      "carmax       0.254600\n",
      "numer        0.254600\n",
      "worthless    0.244669\n",
      "nightmar     0.236555\n",
      "40000        0.236555\n",
      "Name: 0, dtype: float64\n"
     ]
    }
   ],
   "source": [
    "# Stemmed veri için\n",
    "first_sentence_vector_stem = tfidf_df_stem.iloc[0]\n",
    "top_5_words_stem = first_sentence_vector_stem.sort_values(ascending=False).head(5)\n",
    "\n",
    "print(\"\\nStemmed veri - İlk cümlenin en yüksek TF-IDF skorlu 5 kelimesi:\\n\")\n",
    "print(top_5_words_stem)"
   ]
  },
  {
   "cell_type": "code",
   "execution_count": 8,
   "id": "7a11906c-a128-4b3a-8fde-0ac1a3be82db",
   "metadata": {},
   "outputs": [
    {
     "name": "stdout",
     "output_type": "stream",
     "text": [
      "\n",
      "Lemmatize edilmiş veri - Kosinüs Benzerliği Matrisi:\n",
      "\n",
      "        0         1         2         3         4         5         6    \\\n",
      "0  1.000000  0.165453  0.128436  0.186363  0.157353  0.183555  0.040138   \n",
      "1  0.165453  1.000000  0.281632  0.184810  0.244512  0.276041  0.079190   \n",
      "2  0.128436  0.281632  1.000000  0.213381  0.207142  0.326068  0.070560   \n",
      "3  0.186363  0.184810  0.213381  1.000000  0.204657  0.242194  0.096097   \n",
      "4  0.157353  0.244512  0.207142  0.204657  1.000000  0.246450  0.089685   \n",
      "\n",
      "        7         8         9    ...       438       439       440       441  \\\n",
      "0  0.057327  0.217527  0.210151  ...  0.153295  0.120188  0.254586  0.145266   \n",
      "1  0.132456  0.298620  0.232167  ...  0.280449  0.174271  0.190517  0.186605   \n",
      "2  0.101729  0.264848  0.303508  ...  0.182338  0.154581  0.179322  0.156788   \n",
      "3  0.084092  0.231114  0.305521  ...  0.213479  0.174108  0.221863  0.201334   \n",
      "4  0.119319  0.294811  0.480992  ...  0.191997  0.210570  0.269180  0.217219   \n",
      "\n",
      "        442       443       444       445       446       447  \n",
      "0  0.193195  0.122633  0.224278  0.071767  0.036741  0.141071  \n",
      "1  0.107637  0.095645  0.309070  0.146940  0.043941  0.160952  \n",
      "2  0.148552  0.071444  0.257120  0.135494  0.105983  0.147264  \n",
      "3  0.131512  0.104106  0.203049  0.117925  0.057341  0.167172  \n",
      "4  0.124359  0.103085  0.250686  0.159987  0.064345  0.147778  \n",
      "\n",
      "[5 rows x 448 columns]\n"
     ]
    }
   ],
   "source": [
    "# Lemmatize edilmiş veri için\n",
    "cosine_sim_matrix_lemma = cosine_similarity(tfidf_matrix_lemma)\n",
    "cosine_sim_df_lemma = pd.DataFrame(cosine_sim_matrix_lemma)\n",
    "\n",
    "print(\"\\nLemmatize edilmiş veri - Kosinüs Benzerliği Matrisi:\\n\")\n",
    "print(cosine_sim_df_lemma.head())"
   ]
  },
  {
   "cell_type": "code",
   "execution_count": 9,
   "id": "8850e956-5a43-44e2-b86f-43fd2d044aef",
   "metadata": {},
   "outputs": [
    {
     "name": "stdout",
     "output_type": "stream",
     "text": [
      "\n",
      "Stemmed veri - Kosinüs Benzerliği Matrisi:\n",
      "\n",
      "        0         1         2         3         4         5         6    \\\n",
      "0  1.000000  0.096071  0.124763  0.095640  0.096596  0.134022  0.007241   \n",
      "1  0.096071  1.000000  0.181474  0.075423  0.205347  0.189222  0.032460   \n",
      "2  0.124763  0.181474  1.000000  0.122001  0.150929  0.220177  0.004763   \n",
      "3  0.095640  0.075423  0.122001  1.000000  0.066143  0.127912  0.000000   \n",
      "4  0.096596  0.205347  0.150929  0.066143  1.000000  0.128420  0.037048   \n",
      "\n",
      "        7         8         9    ...       438       439       440       441  \\\n",
      "0  0.038897  0.093992  0.137462  ...  0.053968  0.037085  0.103067  0.072344   \n",
      "1  0.075201  0.212422  0.187666  ...  0.152002  0.086715  0.093859  0.101502   \n",
      "2  0.029349  0.152147  0.336141  ...  0.064754  0.063942  0.062203  0.054172   \n",
      "3  0.005672  0.112615  0.203458  ...  0.044850  0.030044  0.113453  0.056000   \n",
      "4  0.061242  0.170891  0.174917  ...  0.058021  0.102899  0.074482  0.084362   \n",
      "\n",
      "        442       443       444       445       446       447  \n",
      "0  0.114823  0.016551  0.142106  0.011735  0.000000  0.061548  \n",
      "1  0.020131  0.022655  0.236060  0.062358  0.011096  0.050861  \n",
      "2  0.091290  0.018447  0.091776  0.047123  0.029844  0.024151  \n",
      "3  0.031681  0.033585  0.048703  0.013350  0.022277  0.050010  \n",
      "4  0.019691  0.027965  0.140044  0.074364  0.038154  0.059796  \n",
      "\n",
      "[5 rows x 448 columns]\n"
     ]
    }
   ],
   "source": [
    "# Stemmed veri için\n",
    "cosine_sim_matrix_stem = cosine_similarity(tfidf_matrix_stem)\n",
    "cosine_sim_df_stem = pd.DataFrame(cosine_sim_matrix_stem)\n",
    "\n",
    "print(\"\\nStemmed veri - Kosinüs Benzerliği Matrisi:\\n\")\n",
    "print(cosine_sim_df_stem.head())"
   ]
  }
 ],
 "metadata": {
  "kernelspec": {
   "display_name": "Python 3 (ipykernel)",
   "language": "python",
   "name": "python3"
  },
  "language_info": {
   "codemirror_mode": {
    "name": "ipython",
    "version": 3
   },
   "file_extension": ".py",
   "mimetype": "text/x-python",
   "name": "python",
   "nbconvert_exporter": "python",
   "pygments_lexer": "ipython3",
   "version": "3.12.7"
  }
 },
 "nbformat": 4,
 "nbformat_minor": 5
}
