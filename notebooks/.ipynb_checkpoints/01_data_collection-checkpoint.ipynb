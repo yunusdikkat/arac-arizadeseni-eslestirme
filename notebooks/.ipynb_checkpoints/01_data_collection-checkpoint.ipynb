{
 "cells": [
  {
   "cell_type": "code",
   "execution_count": 7,
   "id": "4b162e10-18b4-4e02-af69-2b1a94bdeec1",
   "metadata": {},
   "outputs": [],
   "source": [
    "import pandas as pd\n",
    "import os\n",
    "import glob"
   ]
  },
  {
   "cell_type": "code",
   "execution_count": 9,
   "id": "d691cf2a-7d86-42df-ba6a-adfef378756d",
   "metadata": {},
   "outputs": [],
   "source": [
    "dosya_deseni = 'C:/Users/yunus/Desktop/Bahar Dersleri/Yapay Zeka Proje/Araç_Arıza_Eşleştirme/data/raw/carcomplaints*.csv'\n",
    "dosya_listesi = glob.glob(dosya_deseni)"
   ]
  },
  {
   "cell_type": "code",
   "execution_count": 11,
   "id": "716eb708-c351-4c4b-8ad0-d245370153f2",
   "metadata": {},
   "outputs": [
    {
     "name": "stdout",
     "output_type": "stream",
     "text": [
      "C:/Users/yunus/Desktop/Bahar Dersleri/Yapay Zeka Proje/Araç_Arıza_Eşleştirme/data/raw\\carcomplaints (0).csv başarıyla okundu\n",
      "C:/Users/yunus/Desktop/Bahar Dersleri/Yapay Zeka Proje/Araç_Arıza_Eşleştirme/data/raw\\carcomplaints (1).csv başarıyla okundu\n",
      "C:/Users/yunus/Desktop/Bahar Dersleri/Yapay Zeka Proje/Araç_Arıza_Eşleştirme/data/raw\\carcomplaints (10).csv başarıyla okundu\n",
      "C:/Users/yunus/Desktop/Bahar Dersleri/Yapay Zeka Proje/Araç_Arıza_Eşleştirme/data/raw\\carcomplaints (11).csv başarıyla okundu\n",
      "C:/Users/yunus/Desktop/Bahar Dersleri/Yapay Zeka Proje/Araç_Arıza_Eşleştirme/data/raw\\carcomplaints (12).csv başarıyla okundu\n",
      "C:/Users/yunus/Desktop/Bahar Dersleri/Yapay Zeka Proje/Araç_Arıza_Eşleştirme/data/raw\\carcomplaints (13).csv başarıyla okundu\n",
      "C:/Users/yunus/Desktop/Bahar Dersleri/Yapay Zeka Proje/Araç_Arıza_Eşleştirme/data/raw\\carcomplaints (14).csv başarıyla okundu\n",
      "C:/Users/yunus/Desktop/Bahar Dersleri/Yapay Zeka Proje/Araç_Arıza_Eşleştirme/data/raw\\carcomplaints (15).csv başarıyla okundu\n",
      "C:/Users/yunus/Desktop/Bahar Dersleri/Yapay Zeka Proje/Araç_Arıza_Eşleştirme/data/raw\\carcomplaints (16).csv başarıyla okundu\n",
      "C:/Users/yunus/Desktop/Bahar Dersleri/Yapay Zeka Proje/Araç_Arıza_Eşleştirme/data/raw\\carcomplaints (17).csv başarıyla okundu\n",
      "C:/Users/yunus/Desktop/Bahar Dersleri/Yapay Zeka Proje/Araç_Arıza_Eşleştirme/data/raw\\carcomplaints (18).csv başarıyla okundu\n",
      "C:/Users/yunus/Desktop/Bahar Dersleri/Yapay Zeka Proje/Araç_Arıza_Eşleştirme/data/raw\\carcomplaints (19).csv başarıyla okundu\n",
      "C:/Users/yunus/Desktop/Bahar Dersleri/Yapay Zeka Proje/Araç_Arıza_Eşleştirme/data/raw\\carcomplaints (2).csv başarıyla okundu\n",
      "C:/Users/yunus/Desktop/Bahar Dersleri/Yapay Zeka Proje/Araç_Arıza_Eşleştirme/data/raw\\carcomplaints (20).csv başarıyla okundu\n",
      "C:/Users/yunus/Desktop/Bahar Dersleri/Yapay Zeka Proje/Araç_Arıza_Eşleştirme/data/raw\\carcomplaints (21).csv başarıyla okundu\n",
      "C:/Users/yunus/Desktop/Bahar Dersleri/Yapay Zeka Proje/Araç_Arıza_Eşleştirme/data/raw\\carcomplaints (22).csv okunurken hata oluştu: Error tokenizing data. C error: Expected 6 fields in line 6, saw 7\n",
      "\n",
      "C:/Users/yunus/Desktop/Bahar Dersleri/Yapay Zeka Proje/Araç_Arıza_Eşleştirme/data/raw\\carcomplaints (23).csv başarıyla okundu\n",
      "C:/Users/yunus/Desktop/Bahar Dersleri/Yapay Zeka Proje/Araç_Arıza_Eşleştirme/data/raw\\carcomplaints (24).csv başarıyla okundu\n",
      "C:/Users/yunus/Desktop/Bahar Dersleri/Yapay Zeka Proje/Araç_Arıza_Eşleştirme/data/raw\\carcomplaints (25).csv başarıyla okundu\n",
      "C:/Users/yunus/Desktop/Bahar Dersleri/Yapay Zeka Proje/Araç_Arıza_Eşleştirme/data/raw\\carcomplaints (26).csv başarıyla okundu\n",
      "C:/Users/yunus/Desktop/Bahar Dersleri/Yapay Zeka Proje/Araç_Arıza_Eşleştirme/data/raw\\carcomplaints (27).csv başarıyla okundu\n",
      "C:/Users/yunus/Desktop/Bahar Dersleri/Yapay Zeka Proje/Araç_Arıza_Eşleştirme/data/raw\\carcomplaints (3).csv başarıyla okundu\n",
      "C:/Users/yunus/Desktop/Bahar Dersleri/Yapay Zeka Proje/Araç_Arıza_Eşleştirme/data/raw\\carcomplaints (5).csv başarıyla okundu\n",
      "C:/Users/yunus/Desktop/Bahar Dersleri/Yapay Zeka Proje/Araç_Arıza_Eşleştirme/data/raw\\carcomplaints (6).csv başarıyla okundu\n",
      "C:/Users/yunus/Desktop/Bahar Dersleri/Yapay Zeka Proje/Araç_Arıza_Eşleştirme/data/raw\\carcomplaints (7).csv başarıyla okundu\n",
      "C:/Users/yunus/Desktop/Bahar Dersleri/Yapay Zeka Proje/Araç_Arıza_Eşleştirme/data/raw\\carcomplaints (8).csv başarıyla okundu\n",
      "C:/Users/yunus/Desktop/Bahar Dersleri/Yapay Zeka Proje/Araç_Arıza_Eşleştirme/data/raw\\carcomplaints (9).csv başarıyla okundu\n",
      "\n",
      "Birleştirilmiş Veri:\n",
      "    pdate  pdate 2                                 marka              cheader  \\\n",
      "0  Jul 20     2017                                Fiesta  Transmission Failed   \n",
      "1  Mar 18     2017                                Fiesta  Transmission Failed   \n",
      "2  Jan 06     2017                                Fiesta  Transmission Failed   \n",
      "3  Oct 20     2016                                Fiesta  Transmission Failed   \n",
      "4  Mar 14     2015  Fiesta SE 4 cyl,Transmission Failed\"         42,000 miles   \n",
      "\n",
      "                                           cheader 2  \\\n",
      "0                                       39,234 miles   \n",
      "1                                       50,013 miles   \n",
      "2                                       37,000 miles   \n",
      "3                                      106,000 miles   \n",
      "4  We bought this Fiesta in February 2015. We hav...   \n",
      "\n",
      "                                            comments cheader1  \n",
      "0  Since 2011, there have been numerous issues. T...      NaN  \n",
      "1  I have had this car for just over a year, but ...      NaN  \n",
      "2  I will NEVER be purchasing a Ford vehicle or i...      NaN  \n",
      "3  I was reading a comment posted by another 2011...      NaN  \n",
      "4                                                NaN      NaN  \n",
      "\n",
      "Toplam 438 satır birleştirildi.\n",
      "\n",
      "Birleştirilmiş veri 'tum_carcomplaints.csv' olarak kaydedildi.\n"
     ]
    }
   ],
   "source": [
    "veri_cerceveleri = []\n",
    "for dosya_adi in dosya_listesi:\n",
    "    try:\n",
    "        df = pd.read_csv(dosya_adi)\n",
    "        veri_cerceveleri.append(df)\n",
    "        print(f\"{dosya_adi} başarıyla okundu\")\n",
    "    except Exception as e:\n",
    "        print(f\"{dosya_adi} okunurken hata oluştu: {e}\")\n",
    "if veri_cerceveleri:\n",
    "    birlesik_veri = pd.concat(veri_cerceveleri, ignore_index=True)\n",
    "\n",
    "    # Birleştirilmiş veriyi görüntüleyin (isteğe bağlı)\n",
    "    print(\"\\nBirleştirilmiş Veri:\")\n",
    "    print(birlesik_veri.head()) # İlk birkaç satırı gösterir\n",
    "    print(f\"\\nToplam {len(birlesik_veri)} satır birleştirildi.\")\n",
    "\n",
    "    # Birleştirilmiş veriyi yeni bir CSV dosyasına kaydedin (isteğe bağlı)\n",
    "    birlesik_dosya_adi = 'tum_carcomplaints.csv'\n",
    "    birlesik_veri.to_csv(birlesik_dosya_adi, index=False, encoding='utf-8')\n",
    "    print(f\"\\nBirleştirilmiş veri '{birlesik_dosya_adi}' olarak kaydedildi.\")\n",
    "else:\n",
    "    print(\"\\nBelirtilen desene uygun hiçbir dosya bulunamadı.\")"
   ]
  },
  {
   "cell_type": "code",
   "execution_count": null,
   "id": "6edb41cb-0488-4497-8134-62179da63520",
   "metadata": {},
   "outputs": [],
   "source": []
  }
 ],
 "metadata": {
  "kernelspec": {
   "display_name": "Python [conda env:base] *",
   "language": "python",
   "name": "conda-base-py"
  },
  "language_info": {
   "codemirror_mode": {
    "name": "ipython",
    "version": 3
   },
   "file_extension": ".py",
   "mimetype": "text/x-python",
   "name": "python",
   "nbconvert_exporter": "python",
   "pygments_lexer": "ipython3",
   "version": "3.12.7"
  }
 },
 "nbformat": 4,
 "nbformat_minor": 5
}
